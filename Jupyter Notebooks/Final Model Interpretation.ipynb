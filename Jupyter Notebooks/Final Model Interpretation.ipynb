{
 "cells": [
  {
   "cell_type": "code",
   "execution_count": 1,
   "metadata": {},
   "outputs": [],
   "source": [
    "import pickle\n",
    "import pandas as pd\n",
    "import numpy as np\n",
    "import seaborn as sns\n",
    "import matplotlib.pyplot as plt\n",
    "%matplotlib inline\n",
    "plt.style.use('seaborn')\n",
    "from statsmodels.formula.api import ols\n",
    "from statsmodels.stats.outliers_influence import variance_inflation_factor\n",
    "import statsmodels.api as sm\n",
    "import scipy.stats as stats\n",
    "from sklearn.model_selection import train_test_split\n",
    "from sklearn.linear_model import LinearRegression\n",
    "from sklearn.metrics import mean_squared_error, make_scorer\n",
    "from sklearn.model_selection import cross_val_score"
   ]
  },
  {
   "cell_type": "code",
   "execution_count": 2,
   "metadata": {},
   "outputs": [],
   "source": [
    "with open('model.pickle', 'rb') as f:\n",
    "    model = pickle.load(f)\n",
    "    "
   ]
  },
  {
   "cell_type": "code",
   "execution_count": 4,
   "metadata": {},
   "outputs": [
    {
     "data": {
      "text/plain": [
       "array([ 1.27436849e-01,  4.27483128e-05,  1.78594794e-01,  1.67563174e-01,\n",
       "        1.98379457e-01,  4.28212788e-01,  2.53846858e-01,  2.70428713e-01,\n",
       "        4.38418461e-01,  5.88522610e-01,  1.02647423e-01,  6.37799168e-01,\n",
       "        9.68081554e-01,  1.35277094e+00,  9.13641821e-01,  8.61526035e-01,\n",
       "        7.78041690e-01,  6.50231182e-01,  1.69147426e-01,  5.10474525e-01,\n",
       "        1.91338542e-01,  3.12103423e-01,  3.14652384e-01,  6.48866619e-01,\n",
       "        4.48448940e-01,  8.43190097e-01,  9.23488642e-01,  5.28308069e-01,\n",
       "        2.57465386e-01,  1.63354034e+00,  1.12460755e+00,  2.56883532e-01,\n",
       "        8.05073796e-01,  7.90981848e-01,  3.27626369e-01,  1.73110014e-01,\n",
       "        4.85276584e-01,  5.90346502e-01,  5.75375757e-01,  7.94298635e-01,\n",
       "        9.17029226e-01,  6.89634197e-01,  1.11761738e+00,  8.24672642e-01,\n",
       "        1.03643562e+00,  1.83113870e-01,  8.17568685e-01,  2.83914634e-01,\n",
       "        1.08984122e+00,  1.28042391e+00,  7.81286517e-01,  7.35661144e-01,\n",
       "        7.51005620e-01,  3.44731330e-01,  1.07208407e+00,  8.53872459e-01,\n",
       "        4.66958366e-01,  4.08789685e-01,  3.65306453e-01,  5.97804778e-01,\n",
       "        6.70111070e-01,  7.57679952e-02,  3.13634335e-01,  2.12190709e-01,\n",
       "       -1.84188382e-01,  6.14130636e-01, -5.00283285e-02,  9.25026853e-01,\n",
       "        6.46576120e-02])"
      ]
     },
     "execution_count": 4,
     "metadata": {},
     "output_type": "execute_result"
    }
   ],
   "source": [
    "model.coef_ #The coefficients of all the data used in the model"
   ]
  },
  {
   "cell_type": "markdown",
   "metadata": {},
   "source": [
    "# Interpretation of Model"
   ]
  },
  {
   "cell_type": "code",
   "execution_count": 8,
   "metadata": {},
   "outputs": [
    {
     "data": {
      "text/plain": [
       "array([1.13591313, 1.00004275, 1.19553621, 1.18241999, 1.21942502,\n",
       "       1.53451257, 1.28897439, 1.31052617, 1.55025349, 1.80132519,\n",
       "       1.10810065, 1.89231163, 2.63288856, 3.86812904, 2.49338648,\n",
       "       2.36676971, 2.17720445, 1.91598372, 1.18429472, 1.6660816 ,\n",
       "       1.21086931, 1.36629599, 1.36978307, 1.91337102, 1.56588152,\n",
       "       2.32376821, 2.51805969, 1.69606026, 1.29364703, 5.12197621,\n",
       "       3.07900824, 1.29289454, 2.23686156, 2.20556089, 1.3876704 ,\n",
       "       1.1889969 , 1.62462429, 1.80461361, 1.77779842, 2.21288841,\n",
       "       2.50184692, 1.99298636, 3.05756051, 2.2811339 , 2.81915055,\n",
       "       1.20095115, 2.26498624, 1.32831953, 2.97380187, 3.59816472,\n",
       "       2.18428057, 2.08686125, 2.11912998, 1.41161061, 2.92146169,\n",
       "       2.3487246 , 1.59513499, 1.50499516, 1.44095553, 1.81812323,\n",
       "       1.95445439, 1.07871228, 1.36838927, 1.23638365, 0.8317791 ,\n",
       "       1.84804927, 0.95120248, 2.52193598, 1.0667937 ])"
      ]
     },
     "execution_count": 8,
     "metadata": {},
     "output_type": "execute_result"
    }
   ],
   "source": [
    "np.exp(model.coef_)"
   ]
  },
  {
   "cell_type": "code",
   "execution_count": 7,
   "metadata": {},
   "outputs": [
    {
     "data": {
      "text/plain": [
       "1.3525612267094822"
      ]
     },
     "execution_count": 7,
     "metadata": {},
     "output_type": "execute_result"
    }
   ],
   "source": [
    "np.exp(.302)"
   ]
  },
  {
   "cell_type": "markdown",
   "metadata": {},
   "source": [
    "R-squared - .670, higher R-squared values represent smaller differences in the observed data and the fitted values created by the model\n",
    "\n",
    "RMSE - The average error of the model is about 1.35 dollars of log price.\n",
    "\n",
    "Key Coefficients:\n",
    "\n",
    "As lot size increases by 1%, price increases .1274%. For every 20% increase in lot size price increases 2.35%\n",
    "\n",
    "Having a waterfront property increases log price by $1.53\n",
    "\n",
    "Having a basement increases log price by $1.07\n",
    "\n",
    "Having 5 bedrooms increases log price by $1.20 \n",
    "\n",
    "Having 7 bedrooms increases log price by $1.22\n",
    "\n",
    "Having a high grade of 13 increases log price by $2.63\n",
    "\n",
    "The zipcodes with the highest log price increase are:\n",
    "\n",
    "98004 at $3.87, \n",
    "\n",
    "98039 at $5.12, \n",
    "\n",
    "98112 at $3.60\n"
   ]
  },
  {
   "cell_type": "code",
   "execution_count": null,
   "metadata": {},
   "outputs": [],
   "source": []
  }
 ],
 "metadata": {
  "kernelspec": {
   "display_name": "Python [conda env:learn-env] *",
   "language": "python",
   "name": "conda-env-learn-env-py"
  },
  "language_info": {
   "codemirror_mode": {
    "name": "ipython",
    "version": 3
   },
   "file_extension": ".py",
   "mimetype": "text/x-python",
   "name": "python",
   "nbconvert_exporter": "python",
   "pygments_lexer": "ipython3",
   "version": "3.6.9"
  },
  "toc": {
   "base_numbering": 1,
   "nav_menu": {},
   "number_sections": true,
   "sideBar": true,
   "skip_h1_title": false,
   "title_cell": "Table of Contents",
   "title_sidebar": "Contents",
   "toc_cell": false,
   "toc_position": {},
   "toc_section_display": true,
   "toc_window_display": false
  }
 },
 "nbformat": 4,
 "nbformat_minor": 2
}
